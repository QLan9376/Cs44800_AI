{
  "nbformat": 4,
  "nbformat_minor": 5,
  "metadata": {
    "kernelspec": {
      "display_name": "Python 3",
      "language": "python",
      "name": "python3"
    },
    "language_info": {
      "codemirror_mode": {
        "name": "ipython",
        "version": 3
      },
      "file_extension": ".py",
      "mimetype": "text/x-python",
      "name": "python",
      "nbconvert_exporter": "python",
      "pygments_lexer": "ipython3",
      "version": "3.7.3"
    },
    "colab": {
      "name": "Qing_Lan_Csc44800_Assignment3.ipynb",
      "provenance": [],
      "toc_visible": true,
      "include_colab_link": true
    }
  },
  "cells": [
    {
      "cell_type": "markdown",
      "metadata": {
        "id": "view-in-github",
        "colab_type": "text"
      },
      "source": [
        "<a href=\"https://colab.research.google.com/github/QLan9376/Cs44800_AI/blob/main/Qing_Lan_Csc44800_Assignment3.ipynb\" target=\"_parent\"><img src=\"https://colab.research.google.com/assets/colab-badge.svg\" alt=\"Open In Colab\"/></a>"
      ]
    },
    {
      "cell_type": "markdown",
      "metadata": {
        "id": "infectious-bones"
      },
      "source": [
        "* CCNY-Cs44800 Artificial Intelligence\n",
        "* Student:Qing Lan\n",
        "* Professor: Hunter McNichols\n"
      ],
      "id": "infectious-bones"
    },
    {
      "cell_type": "markdown",
      "metadata": {
        "id": "characteristic-breach"
      },
      "source": [
        "# Assignment 3: Machine Learning in Action"
      ],
      "id": "characteristic-breach"
    },
    {
      "cell_type": "markdown",
      "metadata": {
        "id": "literary-highland"
      },
      "source": [
        "## Abstract"
      ],
      "id": "literary-highland"
    },
    {
      "cell_type": "markdown",
      "metadata": {
        "id": "acquired-nature"
      },
      "source": [
        "I travel a lot. I believe that traveling allows you to experience new things, it helps on open up your minds. Airbnb is my favorite holtel booking platform. I always wondering how people make their room booking decision. If a low price holtel really a top reason that attract people. "
      ],
      "id": "acquired-nature"
    },
    {
      "cell_type": "markdown",
      "metadata": {
        "id": "developmental-chambers"
      },
      "source": [
        "So I picked the dataset _\"New York City Airbnb Open Data\"_ as my regression dataset, and the \"US Airbnb Open Data\" as my classification dataset."
      ],
      "id": "developmental-chambers"
    },
    {
      "cell_type": "markdown",
      "metadata": {
        "id": "universal-grade"
      },
      "source": [
        "I will use a Linear Regression to predict the realation between the Airbnb room prices and people's review preferance. I want to see if it's the case that the lower price room has higher reviews. And I am going to use Support Vector Machine to classify them for the types room such as it's a single private room or the entire room/apartment base on the rental's bedroom number and the price of the rental. "
      ],
      "id": "universal-grade"
    },
    {
      "cell_type": "markdown",
      "metadata": {
        "id": "instant-palestine"
      },
      "source": [
        "# Section 1: Prepping the Regression datasets\n"
      ],
      "id": "instant-palestine"
    },
    {
      "cell_type": "markdown",
      "metadata": {
        "id": "ethical-batman"
      },
      "source": [
        "The dataset _\"New York City Airbnb Open Data\"_ has 16 columns which as listing below:"
      ],
      "id": "ethical-batman"
    },
    {
      "cell_type": "markdown",
      "metadata": {
        "id": "engaged-biodiversity"
      },
      "source": [
        "### id,  name,  host_id, host-name, neighbourhood, room_type, price, number_of_reviews, reviews_per_month,etc."
      ],
      "id": "engaged-biodiversity"
    },
    {
      "cell_type": "markdown",
      "metadata": {
        "id": "talented-combining"
      },
      "source": [
        "Displaying the head of the dataset and output the first 15 rows using the python pandas module."
      ],
      "id": "talented-combining"
    },
    {
      "cell_type": "code",
      "metadata": {
        "id": "criminal-consultancy"
      },
      "source": [
        "import pandas as pd\n",
        "import matplotlib.pyplot as plt\n",
        "from sklearn.model_selection import train_test_split, cross_val_score\n",
        "import sklearn.linear_model as lm\n",
        "from sklearn.metrics import mean_squared_error, r2_score\n",
        "from sklearn import preprocessing \n",
        "from sklearn import svm\n",
        "import numpy as np"
      ],
      "id": "criminal-consultancy",
      "execution_count": null,
      "outputs": []
    },
    {
      "cell_type": "markdown",
      "metadata": {
        "id": "illegal-baseball"
      },
      "source": [
        "I ran to the error that my python certificates is unable to insall during the read csv file process,so I would need a exception function to deal with problem."
      ],
      "id": "illegal-baseball"
    },
    {
      "cell_type": "code",
      "metadata": {
        "id": "spatial-induction"
      },
      "source": [
        "import ssl \n",
        "\n",
        "try:\n",
        "    _create_unverified_https_context = ssl._create_unverified_context\n",
        "except AttributeError:\n",
        "    pass\n",
        "else:\n",
        "    ssl._create_default_https_context = _create_unverified_https_context\n",
        "url1 = \"https://raw.githubusercontent.com/QLan9376/Cs44800_AI/main/AB_NYC_2019.csv\"\n",
        "nyc_airbnb_list = pd.read_csv(url1)"
      ],
      "id": "spatial-induction",
      "execution_count": null,
      "outputs": []
    },
    {
      "cell_type": "code",
      "metadata": {
        "scrolled": true,
        "id": "about-technology",
        "outputId": "f80b2408-0d53-4689-b658-2f831afebe98"
      },
      "source": [
        "nyc_airbnb_list.head(15)"
      ],
      "id": "about-technology",
      "execution_count": null,
      "outputs": [
        {
          "output_type": "execute_result",
          "data": {
            "text/html": [
              "<div>\n",
              "<style scoped>\n",
              "    .dataframe tbody tr th:only-of-type {\n",
              "        vertical-align: middle;\n",
              "    }\n",
              "\n",
              "    .dataframe tbody tr th {\n",
              "        vertical-align: top;\n",
              "    }\n",
              "\n",
              "    .dataframe thead th {\n",
              "        text-align: right;\n",
              "    }\n",
              "</style>\n",
              "<table border=\"1\" class=\"dataframe\">\n",
              "  <thead>\n",
              "    <tr style=\"text-align: right;\">\n",
              "      <th></th>\n",
              "      <th>id</th>\n",
              "      <th>name</th>\n",
              "      <th>host_id</th>\n",
              "      <th>host_name</th>\n",
              "      <th>neighbourhood_group</th>\n",
              "      <th>neighbourhood</th>\n",
              "      <th>latitude</th>\n",
              "      <th>longitude</th>\n",
              "      <th>room_type</th>\n",
              "      <th>price</th>\n",
              "      <th>minimum_nights</th>\n",
              "      <th>number_of_reviews</th>\n",
              "      <th>last_review</th>\n",
              "      <th>reviews_per_month</th>\n",
              "      <th>calculated_host_listings_count</th>\n",
              "      <th>availability_365</th>\n",
              "    </tr>\n",
              "  </thead>\n",
              "  <tbody>\n",
              "    <tr>\n",
              "      <th>0</th>\n",
              "      <td>2539</td>\n",
              "      <td>Clean &amp; quiet apt home by the park</td>\n",
              "      <td>2787</td>\n",
              "      <td>John</td>\n",
              "      <td>Brooklyn</td>\n",
              "      <td>Kensington</td>\n",
              "      <td>40.64749</td>\n",
              "      <td>-73.97237</td>\n",
              "      <td>Private room</td>\n",
              "      <td>149</td>\n",
              "      <td>1</td>\n",
              "      <td>9</td>\n",
              "      <td>2018-10-19</td>\n",
              "      <td>0.21</td>\n",
              "      <td>6</td>\n",
              "      <td>365</td>\n",
              "    </tr>\n",
              "    <tr>\n",
              "      <th>1</th>\n",
              "      <td>2595</td>\n",
              "      <td>Skylit Midtown Castle</td>\n",
              "      <td>2845</td>\n",
              "      <td>Jennifer</td>\n",
              "      <td>Manhattan</td>\n",
              "      <td>Midtown</td>\n",
              "      <td>40.75362</td>\n",
              "      <td>-73.98377</td>\n",
              "      <td>Entire home/apt</td>\n",
              "      <td>225</td>\n",
              "      <td>1</td>\n",
              "      <td>45</td>\n",
              "      <td>2019-05-21</td>\n",
              "      <td>0.38</td>\n",
              "      <td>2</td>\n",
              "      <td>355</td>\n",
              "    </tr>\n",
              "    <tr>\n",
              "      <th>2</th>\n",
              "      <td>3647</td>\n",
              "      <td>THE VILLAGE OF HARLEM....NEW YORK !</td>\n",
              "      <td>4632</td>\n",
              "      <td>Elisabeth</td>\n",
              "      <td>Manhattan</td>\n",
              "      <td>Harlem</td>\n",
              "      <td>40.80902</td>\n",
              "      <td>-73.94190</td>\n",
              "      <td>Private room</td>\n",
              "      <td>150</td>\n",
              "      <td>3</td>\n",
              "      <td>0</td>\n",
              "      <td>NaN</td>\n",
              "      <td>NaN</td>\n",
              "      <td>1</td>\n",
              "      <td>365</td>\n",
              "    </tr>\n",
              "    <tr>\n",
              "      <th>3</th>\n",
              "      <td>3831</td>\n",
              "      <td>Cozy Entire Floor of Brownstone</td>\n",
              "      <td>4869</td>\n",
              "      <td>LisaRoxanne</td>\n",
              "      <td>Brooklyn</td>\n",
              "      <td>Clinton Hill</td>\n",
              "      <td>40.68514</td>\n",
              "      <td>-73.95976</td>\n",
              "      <td>Entire home/apt</td>\n",
              "      <td>89</td>\n",
              "      <td>1</td>\n",
              "      <td>270</td>\n",
              "      <td>2019-07-05</td>\n",
              "      <td>4.64</td>\n",
              "      <td>1</td>\n",
              "      <td>194</td>\n",
              "    </tr>\n",
              "    <tr>\n",
              "      <th>4</th>\n",
              "      <td>5022</td>\n",
              "      <td>Entire Apt: Spacious Studio/Loft by central park</td>\n",
              "      <td>7192</td>\n",
              "      <td>Laura</td>\n",
              "      <td>Manhattan</td>\n",
              "      <td>East Harlem</td>\n",
              "      <td>40.79851</td>\n",
              "      <td>-73.94399</td>\n",
              "      <td>Entire home/apt</td>\n",
              "      <td>80</td>\n",
              "      <td>10</td>\n",
              "      <td>9</td>\n",
              "      <td>2018-11-19</td>\n",
              "      <td>0.10</td>\n",
              "      <td>1</td>\n",
              "      <td>0</td>\n",
              "    </tr>\n",
              "    <tr>\n",
              "      <th>5</th>\n",
              "      <td>5099</td>\n",
              "      <td>Large Cozy 1 BR Apartment In Midtown East</td>\n",
              "      <td>7322</td>\n",
              "      <td>Chris</td>\n",
              "      <td>Manhattan</td>\n",
              "      <td>Murray Hill</td>\n",
              "      <td>40.74767</td>\n",
              "      <td>-73.97500</td>\n",
              "      <td>Entire home/apt</td>\n",
              "      <td>200</td>\n",
              "      <td>3</td>\n",
              "      <td>74</td>\n",
              "      <td>2019-06-22</td>\n",
              "      <td>0.59</td>\n",
              "      <td>1</td>\n",
              "      <td>129</td>\n",
              "    </tr>\n",
              "    <tr>\n",
              "      <th>6</th>\n",
              "      <td>5121</td>\n",
              "      <td>BlissArtsSpace!</td>\n",
              "      <td>7356</td>\n",
              "      <td>Garon</td>\n",
              "      <td>Brooklyn</td>\n",
              "      <td>Bedford-Stuyvesant</td>\n",
              "      <td>40.68688</td>\n",
              "      <td>-73.95596</td>\n",
              "      <td>Private room</td>\n",
              "      <td>60</td>\n",
              "      <td>45</td>\n",
              "      <td>49</td>\n",
              "      <td>2017-10-05</td>\n",
              "      <td>0.40</td>\n",
              "      <td>1</td>\n",
              "      <td>0</td>\n",
              "    </tr>\n",
              "    <tr>\n",
              "      <th>7</th>\n",
              "      <td>5178</td>\n",
              "      <td>Large Furnished Room Near B'way</td>\n",
              "      <td>8967</td>\n",
              "      <td>Shunichi</td>\n",
              "      <td>Manhattan</td>\n",
              "      <td>Hell's Kitchen</td>\n",
              "      <td>40.76489</td>\n",
              "      <td>-73.98493</td>\n",
              "      <td>Private room</td>\n",
              "      <td>79</td>\n",
              "      <td>2</td>\n",
              "      <td>430</td>\n",
              "      <td>2019-06-24</td>\n",
              "      <td>3.47</td>\n",
              "      <td>1</td>\n",
              "      <td>220</td>\n",
              "    </tr>\n",
              "    <tr>\n",
              "      <th>8</th>\n",
              "      <td>5203</td>\n",
              "      <td>Cozy Clean Guest Room - Family Apt</td>\n",
              "      <td>7490</td>\n",
              "      <td>MaryEllen</td>\n",
              "      <td>Manhattan</td>\n",
              "      <td>Upper West Side</td>\n",
              "      <td>40.80178</td>\n",
              "      <td>-73.96723</td>\n",
              "      <td>Private room</td>\n",
              "      <td>79</td>\n",
              "      <td>2</td>\n",
              "      <td>118</td>\n",
              "      <td>2017-07-21</td>\n",
              "      <td>0.99</td>\n",
              "      <td>1</td>\n",
              "      <td>0</td>\n",
              "    </tr>\n",
              "    <tr>\n",
              "      <th>9</th>\n",
              "      <td>5238</td>\n",
              "      <td>Cute &amp; Cozy Lower East Side 1 bdrm</td>\n",
              "      <td>7549</td>\n",
              "      <td>Ben</td>\n",
              "      <td>Manhattan</td>\n",
              "      <td>Chinatown</td>\n",
              "      <td>40.71344</td>\n",
              "      <td>-73.99037</td>\n",
              "      <td>Entire home/apt</td>\n",
              "      <td>150</td>\n",
              "      <td>1</td>\n",
              "      <td>160</td>\n",
              "      <td>2019-06-09</td>\n",
              "      <td>1.33</td>\n",
              "      <td>4</td>\n",
              "      <td>188</td>\n",
              "    </tr>\n",
              "    <tr>\n",
              "      <th>10</th>\n",
              "      <td>5295</td>\n",
              "      <td>Beautiful 1br on Upper West Side</td>\n",
              "      <td>7702</td>\n",
              "      <td>Lena</td>\n",
              "      <td>Manhattan</td>\n",
              "      <td>Upper West Side</td>\n",
              "      <td>40.80316</td>\n",
              "      <td>-73.96545</td>\n",
              "      <td>Entire home/apt</td>\n",
              "      <td>135</td>\n",
              "      <td>5</td>\n",
              "      <td>53</td>\n",
              "      <td>2019-06-22</td>\n",
              "      <td>0.43</td>\n",
              "      <td>1</td>\n",
              "      <td>6</td>\n",
              "    </tr>\n",
              "    <tr>\n",
              "      <th>11</th>\n",
              "      <td>5441</td>\n",
              "      <td>Central Manhattan/near Broadway</td>\n",
              "      <td>7989</td>\n",
              "      <td>Kate</td>\n",
              "      <td>Manhattan</td>\n",
              "      <td>Hell's Kitchen</td>\n",
              "      <td>40.76076</td>\n",
              "      <td>-73.98867</td>\n",
              "      <td>Private room</td>\n",
              "      <td>85</td>\n",
              "      <td>2</td>\n",
              "      <td>188</td>\n",
              "      <td>2019-06-23</td>\n",
              "      <td>1.50</td>\n",
              "      <td>1</td>\n",
              "      <td>39</td>\n",
              "    </tr>\n",
              "    <tr>\n",
              "      <th>12</th>\n",
              "      <td>5803</td>\n",
              "      <td>Lovely Room 1, Garden, Best Area, Legal rental</td>\n",
              "      <td>9744</td>\n",
              "      <td>Laurie</td>\n",
              "      <td>Brooklyn</td>\n",
              "      <td>South Slope</td>\n",
              "      <td>40.66829</td>\n",
              "      <td>-73.98779</td>\n",
              "      <td>Private room</td>\n",
              "      <td>89</td>\n",
              "      <td>4</td>\n",
              "      <td>167</td>\n",
              "      <td>2019-06-24</td>\n",
              "      <td>1.34</td>\n",
              "      <td>3</td>\n",
              "      <td>314</td>\n",
              "    </tr>\n",
              "    <tr>\n",
              "      <th>13</th>\n",
              "      <td>6021</td>\n",
              "      <td>Wonderful Guest Bedroom in Manhattan for SINGLES</td>\n",
              "      <td>11528</td>\n",
              "      <td>Claudio</td>\n",
              "      <td>Manhattan</td>\n",
              "      <td>Upper West Side</td>\n",
              "      <td>40.79826</td>\n",
              "      <td>-73.96113</td>\n",
              "      <td>Private room</td>\n",
              "      <td>85</td>\n",
              "      <td>2</td>\n",
              "      <td>113</td>\n",
              "      <td>2019-07-05</td>\n",
              "      <td>0.91</td>\n",
              "      <td>1</td>\n",
              "      <td>333</td>\n",
              "    </tr>\n",
              "    <tr>\n",
              "      <th>14</th>\n",
              "      <td>6090</td>\n",
              "      <td>West Village Nest - Superhost</td>\n",
              "      <td>11975</td>\n",
              "      <td>Alina</td>\n",
              "      <td>Manhattan</td>\n",
              "      <td>West Village</td>\n",
              "      <td>40.73530</td>\n",
              "      <td>-74.00525</td>\n",
              "      <td>Entire home/apt</td>\n",
              "      <td>120</td>\n",
              "      <td>90</td>\n",
              "      <td>27</td>\n",
              "      <td>2018-10-31</td>\n",
              "      <td>0.22</td>\n",
              "      <td>1</td>\n",
              "      <td>0</td>\n",
              "    </tr>\n",
              "  </tbody>\n",
              "</table>\n",
              "</div>"
            ],
            "text/plain": [
              "      id                                              name  host_id  \\\n",
              "0   2539                Clean & quiet apt home by the park     2787   \n",
              "1   2595                             Skylit Midtown Castle     2845   \n",
              "2   3647               THE VILLAGE OF HARLEM....NEW YORK !     4632   \n",
              "3   3831                   Cozy Entire Floor of Brownstone     4869   \n",
              "4   5022  Entire Apt: Spacious Studio/Loft by central park     7192   \n",
              "5   5099         Large Cozy 1 BR Apartment In Midtown East     7322   \n",
              "6   5121                                   BlissArtsSpace!     7356   \n",
              "7   5178                  Large Furnished Room Near B'way      8967   \n",
              "8   5203                Cozy Clean Guest Room - Family Apt     7490   \n",
              "9   5238                Cute & Cozy Lower East Side 1 bdrm     7549   \n",
              "10  5295                  Beautiful 1br on Upper West Side     7702   \n",
              "11  5441                   Central Manhattan/near Broadway     7989   \n",
              "12  5803    Lovely Room 1, Garden, Best Area, Legal rental     9744   \n",
              "13  6021  Wonderful Guest Bedroom in Manhattan for SINGLES    11528   \n",
              "14  6090                     West Village Nest - Superhost    11975   \n",
              "\n",
              "      host_name neighbourhood_group       neighbourhood  latitude  longitude  \\\n",
              "0          John            Brooklyn          Kensington  40.64749  -73.97237   \n",
              "1      Jennifer           Manhattan             Midtown  40.75362  -73.98377   \n",
              "2     Elisabeth           Manhattan              Harlem  40.80902  -73.94190   \n",
              "3   LisaRoxanne            Brooklyn        Clinton Hill  40.68514  -73.95976   \n",
              "4         Laura           Manhattan         East Harlem  40.79851  -73.94399   \n",
              "5         Chris           Manhattan         Murray Hill  40.74767  -73.97500   \n",
              "6         Garon            Brooklyn  Bedford-Stuyvesant  40.68688  -73.95596   \n",
              "7      Shunichi           Manhattan      Hell's Kitchen  40.76489  -73.98493   \n",
              "8     MaryEllen           Manhattan     Upper West Side  40.80178  -73.96723   \n",
              "9           Ben           Manhattan           Chinatown  40.71344  -73.99037   \n",
              "10         Lena           Manhattan     Upper West Side  40.80316  -73.96545   \n",
              "11         Kate           Manhattan      Hell's Kitchen  40.76076  -73.98867   \n",
              "12       Laurie            Brooklyn         South Slope  40.66829  -73.98779   \n",
              "13      Claudio           Manhattan     Upper West Side  40.79826  -73.96113   \n",
              "14        Alina           Manhattan        West Village  40.73530  -74.00525   \n",
              "\n",
              "          room_type  price  minimum_nights  number_of_reviews last_review  \\\n",
              "0      Private room    149               1                  9  2018-10-19   \n",
              "1   Entire home/apt    225               1                 45  2019-05-21   \n",
              "2      Private room    150               3                  0         NaN   \n",
              "3   Entire home/apt     89               1                270  2019-07-05   \n",
              "4   Entire home/apt     80              10                  9  2018-11-19   \n",
              "5   Entire home/apt    200               3                 74  2019-06-22   \n",
              "6      Private room     60              45                 49  2017-10-05   \n",
              "7      Private room     79               2                430  2019-06-24   \n",
              "8      Private room     79               2                118  2017-07-21   \n",
              "9   Entire home/apt    150               1                160  2019-06-09   \n",
              "10  Entire home/apt    135               5                 53  2019-06-22   \n",
              "11     Private room     85               2                188  2019-06-23   \n",
              "12     Private room     89               4                167  2019-06-24   \n",
              "13     Private room     85               2                113  2019-07-05   \n",
              "14  Entire home/apt    120              90                 27  2018-10-31   \n",
              "\n",
              "    reviews_per_month  calculated_host_listings_count  availability_365  \n",
              "0                0.21                               6               365  \n",
              "1                0.38                               2               355  \n",
              "2                 NaN                               1               365  \n",
              "3                4.64                               1               194  \n",
              "4                0.10                               1                 0  \n",
              "5                0.59                               1               129  \n",
              "6                0.40                               1                 0  \n",
              "7                3.47                               1               220  \n",
              "8                0.99                               1                 0  \n",
              "9                1.33                               4               188  \n",
              "10               0.43                               1                 6  \n",
              "11               1.50                               1                39  \n",
              "12               1.34                               3               314  \n",
              "13               0.91                               1               333  \n",
              "14               0.22                               1                 0  "
            ]
          },
          "metadata": {
            "tags": []
          },
          "execution_count": 3
        }
      ]
    },
    {
      "cell_type": "markdown",
      "metadata": {
        "id": "cathedral-military"
      },
      "source": [
        "As we can see, this is a huge dataset. So,I am going clean it up. The only two cloumns which I need for my regression process are:"
      ],
      "id": "cathedral-military"
    },
    {
      "cell_type": "markdown",
      "metadata": {
        "id": "coordinate-region"
      },
      "source": [
        "## 1.price  "
      ],
      "id": "coordinate-region"
    },
    {
      "cell_type": "markdown",
      "metadata": {
        "id": "geographic-university"
      },
      "source": [
        "the prices of the lisiting room/apt"
      ],
      "id": "geographic-university"
    },
    {
      "cell_type": "markdown",
      "metadata": {
        "id": "unavailable-journalism"
      },
      "source": [
        "## 2.number_of_reviews"
      ],
      "id": "unavailable-journalism"
    },
    {
      "cell_type": "markdown",
      "metadata": {
        "id": "centered-exemption"
      },
      "source": [
        "the number of guests' review for each propety"
      ],
      "id": "centered-exemption"
    },
    {
      "cell_type": "code",
      "metadata": {
        "id": "joint-performance"
      },
      "source": [
        "nyc_airbnb_list = nyc_airbnb_list.drop([\"id\", \"name\", \"host_id\", \"host_name\", \"neighbourhood_group\",\"neighbourhood\",\n",
        "                                        \"latitude\",\"longitude\",\"room_type\",\"minimum_nights\",\"last_review\",\"reviews_per_month\",\n",
        "                                        \"calculated_host_listings_count\",\"availability_365\"],axis=1)\n"
      ],
      "id": "joint-performance",
      "execution_count": null,
      "outputs": []
    },
    {
      "cell_type": "markdown",
      "metadata": {
        "id": "fiscal-pressure"
      },
      "source": [
        "### Let's take a look on how the dataset looks like after dropping:"
      ],
      "id": "fiscal-pressure"
    },
    {
      "cell_type": "code",
      "metadata": {
        "id": "secret-september",
        "outputId": "b8a06f34-70a8-4c0d-9e70-6810043867ca"
      },
      "source": [
        "nyc_airbnb_list.head(15)"
      ],
      "id": "secret-september",
      "execution_count": null,
      "outputs": [
        {
          "output_type": "execute_result",
          "data": {
            "text/html": [
              "<div>\n",
              "<style scoped>\n",
              "    .dataframe tbody tr th:only-of-type {\n",
              "        vertical-align: middle;\n",
              "    }\n",
              "\n",
              "    .dataframe tbody tr th {\n",
              "        vertical-align: top;\n",
              "    }\n",
              "\n",
              "    .dataframe thead th {\n",
              "        text-align: right;\n",
              "    }\n",
              "</style>\n",
              "<table border=\"1\" class=\"dataframe\">\n",
              "  <thead>\n",
              "    <tr style=\"text-align: right;\">\n",
              "      <th></th>\n",
              "      <th>price</th>\n",
              "      <th>number_of_reviews</th>\n",
              "    </tr>\n",
              "  </thead>\n",
              "  <tbody>\n",
              "    <tr>\n",
              "      <th>0</th>\n",
              "      <td>149</td>\n",
              "      <td>9</td>\n",
              "    </tr>\n",
              "    <tr>\n",
              "      <th>1</th>\n",
              "      <td>225</td>\n",
              "      <td>45</td>\n",
              "    </tr>\n",
              "    <tr>\n",
              "      <th>2</th>\n",
              "      <td>150</td>\n",
              "      <td>0</td>\n",
              "    </tr>\n",
              "    <tr>\n",
              "      <th>3</th>\n",
              "      <td>89</td>\n",
              "      <td>270</td>\n",
              "    </tr>\n",
              "    <tr>\n",
              "      <th>4</th>\n",
              "      <td>80</td>\n",
              "      <td>9</td>\n",
              "    </tr>\n",
              "    <tr>\n",
              "      <th>5</th>\n",
              "      <td>200</td>\n",
              "      <td>74</td>\n",
              "    </tr>\n",
              "    <tr>\n",
              "      <th>6</th>\n",
              "      <td>60</td>\n",
              "      <td>49</td>\n",
              "    </tr>\n",
              "    <tr>\n",
              "      <th>7</th>\n",
              "      <td>79</td>\n",
              "      <td>430</td>\n",
              "    </tr>\n",
              "    <tr>\n",
              "      <th>8</th>\n",
              "      <td>79</td>\n",
              "      <td>118</td>\n",
              "    </tr>\n",
              "    <tr>\n",
              "      <th>9</th>\n",
              "      <td>150</td>\n",
              "      <td>160</td>\n",
              "    </tr>\n",
              "    <tr>\n",
              "      <th>10</th>\n",
              "      <td>135</td>\n",
              "      <td>53</td>\n",
              "    </tr>\n",
              "    <tr>\n",
              "      <th>11</th>\n",
              "      <td>85</td>\n",
              "      <td>188</td>\n",
              "    </tr>\n",
              "    <tr>\n",
              "      <th>12</th>\n",
              "      <td>89</td>\n",
              "      <td>167</td>\n",
              "    </tr>\n",
              "    <tr>\n",
              "      <th>13</th>\n",
              "      <td>85</td>\n",
              "      <td>113</td>\n",
              "    </tr>\n",
              "    <tr>\n",
              "      <th>14</th>\n",
              "      <td>120</td>\n",
              "      <td>27</td>\n",
              "    </tr>\n",
              "  </tbody>\n",
              "</table>\n",
              "</div>"
            ],
            "text/plain": [
              "    price  number_of_reviews\n",
              "0     149                  9\n",
              "1     225                 45\n",
              "2     150                  0\n",
              "3      89                270\n",
              "4      80                  9\n",
              "5     200                 74\n",
              "6      60                 49\n",
              "7      79                430\n",
              "8      79                118\n",
              "9     150                160\n",
              "10    135                 53\n",
              "11     85                188\n",
              "12     89                167\n",
              "13     85                113\n",
              "14    120                 27"
            ]
          },
          "metadata": {
            "tags": []
          },
          "execution_count": 5
        }
      ]
    },
    {
      "cell_type": "markdown",
      "metadata": {
        "id": "adaptive-malaysia"
      },
      "source": [
        "# Section 2: Linear Regression\n"
      ],
      "id": "adaptive-malaysia"
    },
    {
      "cell_type": "markdown",
      "metadata": {
        "id": "infinite-collins"
      },
      "source": [
        "My guess is that the lower the Airbnb price is, the higher reviews they will get. Who doesn't want a better price for goods, right?"
      ],
      "id": "infinite-collins"
    },
    {
      "cell_type": "markdown",
      "metadata": {
        "id": "growing-potato"
      },
      "source": [
        "So first of all, I will use pandas to extract features and prediction sets from the dataframe. I will use sklearn to create a training set and test set. Then reserve 20% of the dataset for testing."
      ],
      "id": "growing-potato"
    },
    {
      "cell_type": "code",
      "metadata": {
        "id": "earned-piece"
      },
      "source": [
        "X = nyc_airbnb_list.iloc[:, :-1].values\n",
        "y = nyc_airbnb_list.iloc[:, 1].values\n",
        "\n",
        "reg_train, reg_test, y_train, y_test = train_test_split(X, y, test_size = 0.2, random_state = 23)\n"
      ],
      "id": "earned-piece",
      "execution_count": null,
      "outputs": []
    },
    {
      "cell_type": "markdown",
      "metadata": {
        "id": "bacterial-general"
      },
      "source": [
        "see what our model returns:\n"
      ],
      "id": "bacterial-general"
    },
    {
      "cell_type": "code",
      "metadata": {
        "id": "otherwise-jaguar",
        "outputId": "8551578f-d93f-4545-c78b-ab0963c34693"
      },
      "source": [
        "reg = lm.LinearRegression()\n",
        "reg.fit(reg_train, y_train)\n",
        "sc = reg.score(reg_train, y_train)\n",
        "print(\"Score: \", sc, \"\\n\")"
      ],
      "id": "otherwise-jaguar",
      "execution_count": null,
      "outputs": [
        {
          "output_type": "stream",
          "text": [
            "Score:  0.0022260699916160087 \n",
            "\n"
          ],
          "name": "stdout"
        }
      ]
    },
    {
      "cell_type": "code",
      "metadata": {
        "id": "alone-native",
        "outputId": "df9af88a-0f94-4a6d-c2bd-633f82f385ed"
      },
      "source": [
        "y_pred = reg.predict(reg_test)\n",
        "m = mean_squared_error(y_test, y_pred)\n",
        "r = r2_score(y_test, y_pred)\n",
        "\n",
        "print(\"Intercept: \", reg.intercept_)\n",
        "print(\"Mean Squared Error: \", m)\n",
        "print(\"R-squared Value: \", r)"
      ],
      "id": "alone-native",
      "execution_count": null,
      "outputs": [
        {
          "output_type": "stream",
          "text": [
            "Intercept:  24.56685063088781\n",
            "Mean Squared Error:  1983.3622190748965\n",
            "R-squared Value:  0.0025715085998618825\n"
          ],
          "name": "stdout"
        }
      ]
    },
    {
      "cell_type": "code",
      "metadata": {
        "id": "changed-bishop",
        "outputId": "4fbeadd4-900e-4419-c155-c3a0ec7da153"
      },
      "source": [
        "table = pd.DataFrame({'Actual': y_test, 'Predicted': y_pred})\n",
        "print(table.head())"
      ],
      "id": "changed-bishop",
      "execution_count": null,
      "outputs": [
        {
          "output_type": "stream",
          "text": [
            "   Actual  Predicted\n",
            "0       0  23.874244\n",
            "1      13  23.008485\n",
            "2       1  22.056150\n",
            "3      17  24.004107\n",
            "4       2  21.969575\n"
          ],
          "name": "stdout"
        }
      ]
    },
    {
      "cell_type": "markdown",
      "metadata": {
        "id": "blind-router"
      },
      "source": [
        "### Create a scatter plot and the regression to create a regression line:\n"
      ],
      "id": "blind-router"
    },
    {
      "cell_type": "markdown",
      "metadata": {
        "id": "interstate-equity"
      },
      "source": [
        "* the training data is the green dots, the test data is the blue dots, with a red regression line cutting through the data."
      ],
      "id": "interstate-equity"
    },
    {
      "cell_type": "code",
      "metadata": {
        "id": "balanced-lancaster",
        "outputId": "2c2d61be-021d-48d9-8e36-79b1d1dadd8c"
      },
      "source": [
        "plt.scatter(reg_train, y_train, color = 'green')\n",
        "plt.scatter(reg_test, y_test,  color='blue')\n",
        "plt.plot(reg_test, y_pred, color='red', linewidth = 2)\n",
        "plt.title('NYC Airbnb rental price Vs number of reviews')\n",
        "plt.xlabel(\"price\")\n",
        "plt.ylabel(\"number_of_reviews\")\n",
        "plt.show()"
      ],
      "id": "balanced-lancaster",
      "execution_count": null,
      "outputs": [
        {
          "output_type": "display_data",
          "data": {
            "image/png": "[encoded data removed]",
            "text/plain": [
              "<Figure size 432x288 with 1 Axes>"
            ]
          },
          "metadata": {
            "tags": [],
            "needs_background": "light"
          }
        }
      ]
    },
    {
      "cell_type": "code",
      "metadata": {
        "id": "polish-carol",
        "outputId": "dfa59322-fe29-4358-9356-dcfc6002e4a2"
      },
      "source": [
        "print(\"R2 score: \", r2_score(y_test, y_pred))"
      ],
      "id": "polish-carol",
      "execution_count": null,
      "outputs": [
        {
          "output_type": "stream",
          "text": [
            "R2 score:  0.0025715085998618825\n"
          ],
          "name": "stdout"
        }
      ]
    },
    {
      "cell_type": "markdown",
      "metadata": {
        "id": "precious-yukon"
      },
      "source": [
        "Oops,base on this very low outcome score, it can be determined that the linear regression doesn't perform really well on this prediction and the data is not consider highly correlated. However, I think some other factors should be including in this prediction such as the location of the rentals. "
      ],
      "id": "precious-yukon"
    },
    {
      "cell_type": "markdown",
      "metadata": {
        "id": "dying-vulnerability"
      },
      "source": [
        "# Section 3: Preparing the Classification Dataset\n"
      ],
      "id": "dying-vulnerability"
    },
    {
      "cell_type": "markdown",
      "metadata": {
        "id": "sized-sally"
      },
      "source": [
        "We're all have been stucking at home for a long time due to the Covid19. Barcelona will be my next destination once we win this pandemic crisis. So when I see this dataset _'Airbnb dataset of barcelona city'_, it looks it's not a bad idea to start some preparation for now. "
      ],
      "id": "sized-sally"
    },
    {
      "cell_type": "markdown",
      "metadata": {
        "id": "ecological-ocean"
      },
      "source": [
        "There're 9 columns including in this dataset:"
      ],
      "id": "ecological-ocean"
    },
    {
      "cell_type": "markdown",
      "metadata": {
        "id": "sized-color"
      },
      "source": [
        "### room_type,neighborhood,reviews,overall_satisfaction,accommodates,bedrooms,price,latitude,longitude\n"
      ],
      "id": "sized-color"
    },
    {
      "cell_type": "markdown",
      "metadata": {
        "id": "viral-paint"
      },
      "source": [
        "Displaying the head of the dataset and output the first 15 rows using the python pandas module."
      ],
      "id": "viral-paint"
    },
    {
      "cell_type": "code",
      "metadata": {
        "id": "automatic-afternoon"
      },
      "source": [
        "import ssl \n",
        "\n",
        "try:\n",
        "    _create_unverified_https_context = ssl._create_unverified_context\n",
        "except AttributeError:\n",
        "    pass\n",
        "else:\n",
        "    ssl._create_default_https_context = _create_unverified_https_context\n",
        "url2 = \"https://raw.githubusercontent.com/QLan9376/Cs44800_AI/main/AB_Barcelona.csv\"\n",
        "barcelona_airbnb_list = pd.read_csv(url2)"
      ],
      "id": "automatic-afternoon",
      "execution_count": null,
      "outputs": []
    },
    {
      "cell_type": "markdown",
      "metadata": {
        "id": "proud-threshold"
      },
      "source": [
        "I am going to display some random datas to indicate there're 2 different output under 'room_type'. "
      ],
      "id": "proud-threshold"
    },
    {
      "cell_type": "code",
      "metadata": {
        "id": "controlled-mailman",
        "outputId": "73649918-20f7-4bce-b0e9-42862491f8b2"
      },
      "source": [
        "barcelona_airbnb_list.sample(15)"
      ],
      "id": "controlled-mailman",
      "execution_count": null,
      "outputs": [
        {
          "output_type": "execute_result",
          "data": {
            "text/html": [
              "<div>\n",
              "<style scoped>\n",
              "    .dataframe tbody tr th:only-of-type {\n",
              "        vertical-align: middle;\n",
              "    }\n",
              "\n",
              "    .dataframe tbody tr th {\n",
              "        vertical-align: top;\n",
              "    }\n",
              "\n",
              "    .dataframe thead th {\n",
              "        text-align: right;\n",
              "    }\n",
              "</style>\n",
              "<table border=\"1\" class=\"dataframe\">\n",
              "  <thead>\n",
              "    <tr style=\"text-align: right;\">\n",
              "      <th></th>\n",
              "      <th>room_type</th>\n",
              "      <th>neighborhood</th>\n",
              "      <th>reviews</th>\n",
              "      <th>overall_satisfaction</th>\n",
              "      <th>accommodates</th>\n",
              "      <th>bedrooms</th>\n",
              "      <th>price</th>\n",
              "      <th>latitude</th>\n",
              "      <th>longitude</th>\n",
              "    </tr>\n",
              "  </thead>\n",
              "  <tbody>\n",
              "    <tr>\n",
              "      <th>9638</th>\n",
              "      <td>Private room</td>\n",
              "      <td>Sant Martí</td>\n",
              "      <td>207</td>\n",
              "      <td>4.5</td>\n",
              "      <td>3</td>\n",
              "      <td>1.0</td>\n",
              "      <td>42.0</td>\n",
              "      <td>41.402322</td>\n",
              "      <td>2.197785</td>\n",
              "    </tr>\n",
              "    <tr>\n",
              "      <th>2668</th>\n",
              "      <td>Entire home/apt</td>\n",
              "      <td>Ciutat Vella</td>\n",
              "      <td>36</td>\n",
              "      <td>4.5</td>\n",
              "      <td>3</td>\n",
              "      <td>2.0</td>\n",
              "      <td>131.0</td>\n",
              "      <td>41.382889</td>\n",
              "      <td>2.170749</td>\n",
              "    </tr>\n",
              "    <tr>\n",
              "      <th>6468</th>\n",
              "      <td>Private room</td>\n",
              "      <td>Ciutat Vella</td>\n",
              "      <td>11</td>\n",
              "      <td>5.0</td>\n",
              "      <td>2</td>\n",
              "      <td>1.0</td>\n",
              "      <td>108.0</td>\n",
              "      <td>41.385870</td>\n",
              "      <td>2.182073</td>\n",
              "    </tr>\n",
              "    <tr>\n",
              "      <th>983</th>\n",
              "      <td>Entire home/apt</td>\n",
              "      <td>Sant Martí</td>\n",
              "      <td>111</td>\n",
              "      <td>5.0</td>\n",
              "      <td>6</td>\n",
              "      <td>3.0</td>\n",
              "      <td>240.0</td>\n",
              "      <td>41.401500</td>\n",
              "      <td>2.189050</td>\n",
              "    </tr>\n",
              "    <tr>\n",
              "      <th>697</th>\n",
              "      <td>Entire home/apt</td>\n",
              "      <td>Eixample</td>\n",
              "      <td>6</td>\n",
              "      <td>5.0</td>\n",
              "      <td>7</td>\n",
              "      <td>4.0</td>\n",
              "      <td>301.0</td>\n",
              "      <td>41.395247</td>\n",
              "      <td>2.165862</td>\n",
              "    </tr>\n",
              "    <tr>\n",
              "      <th>506</th>\n",
              "      <td>Entire home/apt</td>\n",
              "      <td>Les Corts</td>\n",
              "      <td>10</td>\n",
              "      <td>4.5</td>\n",
              "      <td>8</td>\n",
              "      <td>4.0</td>\n",
              "      <td>265.0</td>\n",
              "      <td>41.378751</td>\n",
              "      <td>2.124834</td>\n",
              "    </tr>\n",
              "    <tr>\n",
              "      <th>3896</th>\n",
              "      <td>Entire home/apt</td>\n",
              "      <td>Ciutat Vella</td>\n",
              "      <td>7</td>\n",
              "      <td>4.5</td>\n",
              "      <td>4</td>\n",
              "      <td>2.0</td>\n",
              "      <td>121.0</td>\n",
              "      <td>41.382962</td>\n",
              "      <td>2.178864</td>\n",
              "    </tr>\n",
              "    <tr>\n",
              "      <th>7424</th>\n",
              "      <td>Private room</td>\n",
              "      <td>Eixample</td>\n",
              "      <td>4</td>\n",
              "      <td>2.5</td>\n",
              "      <td>2</td>\n",
              "      <td>1.0</td>\n",
              "      <td>52.0</td>\n",
              "      <td>41.391126</td>\n",
              "      <td>2.161221</td>\n",
              "    </tr>\n",
              "    <tr>\n",
              "      <th>9006</th>\n",
              "      <td>Private room</td>\n",
              "      <td>Eixample</td>\n",
              "      <td>17</td>\n",
              "      <td>4.0</td>\n",
              "      <td>2</td>\n",
              "      <td>1.0</td>\n",
              "      <td>57.0</td>\n",
              "      <td>41.387953</td>\n",
              "      <td>2.160803</td>\n",
              "    </tr>\n",
              "    <tr>\n",
              "      <th>8457</th>\n",
              "      <td>Private room</td>\n",
              "      <td>Gràcia</td>\n",
              "      <td>17</td>\n",
              "      <td>4.5</td>\n",
              "      <td>2</td>\n",
              "      <td>1.0</td>\n",
              "      <td>42.0</td>\n",
              "      <td>41.413573</td>\n",
              "      <td>2.148415</td>\n",
              "    </tr>\n",
              "    <tr>\n",
              "      <th>2578</th>\n",
              "      <td>Entire home/apt</td>\n",
              "      <td>Eixample</td>\n",
              "      <td>69</td>\n",
              "      <td>4.5</td>\n",
              "      <td>10</td>\n",
              "      <td>4.0</td>\n",
              "      <td>138.0</td>\n",
              "      <td>41.382438</td>\n",
              "      <td>2.152515</td>\n",
              "    </tr>\n",
              "    <tr>\n",
              "      <th>8191</th>\n",
              "      <td>Private room</td>\n",
              "      <td>Eixample</td>\n",
              "      <td>5</td>\n",
              "      <td>5.0</td>\n",
              "      <td>2</td>\n",
              "      <td>1.0</td>\n",
              "      <td>60.0</td>\n",
              "      <td>41.379993</td>\n",
              "      <td>2.156878</td>\n",
              "    </tr>\n",
              "    <tr>\n",
              "      <th>3089</th>\n",
              "      <td>Entire home/apt</td>\n",
              "      <td>Sants-Montjuïc</td>\n",
              "      <td>23</td>\n",
              "      <td>5.0</td>\n",
              "      <td>2</td>\n",
              "      <td>1.0</td>\n",
              "      <td>132.0</td>\n",
              "      <td>41.374101</td>\n",
              "      <td>2.165313</td>\n",
              "    </tr>\n",
              "    <tr>\n",
              "      <th>5918</th>\n",
              "      <td>Entire home/apt</td>\n",
              "      <td>Sants-Montjuïc</td>\n",
              "      <td>5</td>\n",
              "      <td>5.0</td>\n",
              "      <td>2</td>\n",
              "      <td>1.0</td>\n",
              "      <td>78.0</td>\n",
              "      <td>41.380765</td>\n",
              "      <td>2.139994</td>\n",
              "    </tr>\n",
              "    <tr>\n",
              "      <th>4834</th>\n",
              "      <td>Entire home/apt</td>\n",
              "      <td>Eixample</td>\n",
              "      <td>34</td>\n",
              "      <td>4.5</td>\n",
              "      <td>4</td>\n",
              "      <td>2.0</td>\n",
              "      <td>96.0</td>\n",
              "      <td>41.381668</td>\n",
              "      <td>2.150366</td>\n",
              "    </tr>\n",
              "  </tbody>\n",
              "</table>\n",
              "</div>"
            ],
            "text/plain": [
              "            room_type    neighborhood  reviews  overall_satisfaction  \\\n",
              "9638     Private room      Sant Martí      207                   4.5   \n",
              "2668  Entire home/apt    Ciutat Vella       36                   4.5   \n",
              "6468     Private room    Ciutat Vella       11                   5.0   \n",
              "983   Entire home/apt      Sant Martí      111                   5.0   \n",
              "697   Entire home/apt        Eixample        6                   5.0   \n",
              "506   Entire home/apt       Les Corts       10                   4.5   \n",
              "3896  Entire home/apt    Ciutat Vella        7                   4.5   \n",
              "7424     Private room        Eixample        4                   2.5   \n",
              "9006     Private room        Eixample       17                   4.0   \n",
              "8457     Private room          Gràcia       17                   4.5   \n",
              "2578  Entire home/apt        Eixample       69                   4.5   \n",
              "8191     Private room        Eixample        5                   5.0   \n",
              "3089  Entire home/apt  Sants-Montjuïc       23                   5.0   \n",
              "5918  Entire home/apt  Sants-Montjuïc        5                   5.0   \n",
              "4834  Entire home/apt        Eixample       34                   4.5   \n",
              "\n",
              "      accommodates  bedrooms  price   latitude  longitude  \n",
              "9638             3       1.0   42.0  41.402322   2.197785  \n",
              "2668             3       2.0  131.0  41.382889   2.170749  \n",
              "6468             2       1.0  108.0  41.385870   2.182073  \n",
              "983              6       3.0  240.0  41.401500   2.189050  \n",
              "697              7       4.0  301.0  41.395247   2.165862  \n",
              "506              8       4.0  265.0  41.378751   2.124834  \n",
              "3896             4       2.0  121.0  41.382962   2.178864  \n",
              "7424             2       1.0   52.0  41.391126   2.161221  \n",
              "9006             2       1.0   57.0  41.387953   2.160803  \n",
              "8457             2       1.0   42.0  41.413573   2.148415  \n",
              "2578            10       4.0  138.0  41.382438   2.152515  \n",
              "8191             2       1.0   60.0  41.379993   2.156878  \n",
              "3089             2       1.0  132.0  41.374101   2.165313  \n",
              "5918             2       1.0   78.0  41.380765   2.139994  \n",
              "4834             4       2.0   96.0  41.381668   2.150366  "
            ]
          },
          "metadata": {
            "tags": []
          },
          "execution_count": 13
        }
      ]
    },
    {
      "cell_type": "markdown",
      "metadata": {
        "id": "numerous-murder"
      },
      "source": [
        "The first thing to do is to drop some unrelated columns.The columns where I need for the clasification part are:"
      ],
      "id": "numerous-murder"
    },
    {
      "cell_type": "markdown",
      "metadata": {
        "id": "standard-lambda"
      },
      "source": [
        "### 1.room_type"
      ],
      "id": "standard-lambda"
    },
    {
      "cell_type": "markdown",
      "metadata": {
        "id": "differential-subscriber"
      },
      "source": [
        "* which describe the type of the rental, datatype >>> string "
      ],
      "id": "differential-subscriber"
    },
    {
      "cell_type": "markdown",
      "metadata": {
        "id": "irish-harvest"
      },
      "source": [
        "### 2. overall_satisfaction"
      ],
      "id": "irish-harvest"
    },
    {
      "cell_type": "markdown",
      "metadata": {
        "id": "functional-philip"
      },
      "source": [
        "* the rental satisfication scores from quest, datatype >>>float"
      ],
      "id": "functional-philip"
    },
    {
      "cell_type": "markdown",
      "metadata": {
        "id": "bulgarian-newspaper"
      },
      "source": [
        "### 3. bedrooms"
      ],
      "id": "bulgarian-newspaper"
    },
    {
      "cell_type": "markdown",
      "metadata": {
        "id": "intermediate-china"
      },
      "source": [
        "* the number of bedrooms, datatype >>>float"
      ],
      "id": "intermediate-china"
    },
    {
      "cell_type": "markdown",
      "metadata": {
        "id": "automatic-texas"
      },
      "source": [
        "### 4.price"
      ],
      "id": "automatic-texas"
    },
    {
      "cell_type": "markdown",
      "metadata": {
        "id": "simplified-microphone"
      },
      "source": [
        "* the prices of the rentals,datatype >>>float"
      ],
      "id": "simplified-microphone"
    },
    {
      "cell_type": "markdown",
      "metadata": {
        "id": "pending-marriage"
      },
      "source": [
        "## Displaying dataset after dropping"
      ],
      "id": "pending-marriage"
    },
    {
      "cell_type": "code",
      "metadata": {
        "id": "inclusive-worst"
      },
      "source": [
        "barcelona_airbnb_list = barcelona_airbnb_list.drop([\"neighborhood\",\"reviews\",\"accommodates\",\"latitude\",\"longitude\"],axis=1)"
      ],
      "id": "inclusive-worst",
      "execution_count": null,
      "outputs": []
    },
    {
      "cell_type": "code",
      "metadata": {
        "id": "alleged-notification",
        "outputId": "777f8c5f-ea95-417d-f2a5-b5c97d082b60"
      },
      "source": [
        "barcelona_airbnb_list.head(15)"
      ],
      "id": "alleged-notification",
      "execution_count": null,
      "outputs": [
        {
          "output_type": "execute_result",
          "data": {
            "text/html": [
              "<div>\n",
              "<style scoped>\n",
              "    .dataframe tbody tr th:only-of-type {\n",
              "        vertical-align: middle;\n",
              "    }\n",
              "\n",
              "    .dataframe tbody tr th {\n",
              "        vertical-align: top;\n",
              "    }\n",
              "\n",
              "    .dataframe thead th {\n",
              "        text-align: right;\n",
              "    }\n",
              "</style>\n",
              "<table border=\"1\" class=\"dataframe\">\n",
              "  <thead>\n",
              "    <tr style=\"text-align: right;\">\n",
              "      <th></th>\n",
              "      <th>room_type</th>\n",
              "      <th>overall_satisfaction</th>\n",
              "      <th>bedrooms</th>\n",
              "      <th>price</th>\n",
              "    </tr>\n",
              "  </thead>\n",
              "  <tbody>\n",
              "    <tr>\n",
              "      <th>0</th>\n",
              "      <td>Shared room</td>\n",
              "      <td>4.5</td>\n",
              "      <td>1.0</td>\n",
              "      <td>264.0</td>\n",
              "    </tr>\n",
              "    <tr>\n",
              "      <th>1</th>\n",
              "      <td>Shared room</td>\n",
              "      <td>4.0</td>\n",
              "      <td>1.0</td>\n",
              "      <td>129.0</td>\n",
              "    </tr>\n",
              "    <tr>\n",
              "      <th>2</th>\n",
              "      <td>Shared room</td>\n",
              "      <td>4.0</td>\n",
              "      <td>1.0</td>\n",
              "      <td>129.0</td>\n",
              "    </tr>\n",
              "    <tr>\n",
              "      <th>3</th>\n",
              "      <td>Shared room</td>\n",
              "      <td>5.0</td>\n",
              "      <td>1.0</td>\n",
              "      <td>72.0</td>\n",
              "    </tr>\n",
              "    <tr>\n",
              "      <th>4</th>\n",
              "      <td>Shared room</td>\n",
              "      <td>5.0</td>\n",
              "      <td>1.0</td>\n",
              "      <td>64.0</td>\n",
              "    </tr>\n",
              "    <tr>\n",
              "      <th>5</th>\n",
              "      <td>Shared room</td>\n",
              "      <td>4.0</td>\n",
              "      <td>1.0</td>\n",
              "      <td>45.0</td>\n",
              "    </tr>\n",
              "    <tr>\n",
              "      <th>6</th>\n",
              "      <td>Shared room</td>\n",
              "      <td>5.0</td>\n",
              "      <td>1.0</td>\n",
              "      <td>60.0</td>\n",
              "    </tr>\n",
              "    <tr>\n",
              "      <th>7</th>\n",
              "      <td>Shared room</td>\n",
              "      <td>4.5</td>\n",
              "      <td>1.0</td>\n",
              "      <td>289.0</td>\n",
              "    </tr>\n",
              "    <tr>\n",
              "      <th>8</th>\n",
              "      <td>Shared room</td>\n",
              "      <td>4.0</td>\n",
              "      <td>1.0</td>\n",
              "      <td>193.0</td>\n",
              "    </tr>\n",
              "    <tr>\n",
              "      <th>9</th>\n",
              "      <td>Shared room</td>\n",
              "      <td>4.5</td>\n",
              "      <td>1.0</td>\n",
              "      <td>133.0</td>\n",
              "    </tr>\n",
              "    <tr>\n",
              "      <th>10</th>\n",
              "      <td>Shared room</td>\n",
              "      <td>4.0</td>\n",
              "      <td>1.0</td>\n",
              "      <td>144.0</td>\n",
              "    </tr>\n",
              "    <tr>\n",
              "      <th>11</th>\n",
              "      <td>Shared room</td>\n",
              "      <td>4.0</td>\n",
              "      <td>1.0</td>\n",
              "      <td>114.0</td>\n",
              "    </tr>\n",
              "    <tr>\n",
              "      <th>12</th>\n",
              "      <td>Shared room</td>\n",
              "      <td>4.0</td>\n",
              "      <td>1.0</td>\n",
              "      <td>114.0</td>\n",
              "    </tr>\n",
              "    <tr>\n",
              "      <th>13</th>\n",
              "      <td>Shared room</td>\n",
              "      <td>4.0</td>\n",
              "      <td>1.0</td>\n",
              "      <td>114.0</td>\n",
              "    </tr>\n",
              "    <tr>\n",
              "      <th>14</th>\n",
              "      <td>Shared room</td>\n",
              "      <td>4.0</td>\n",
              "      <td>1.0</td>\n",
              "      <td>84.0</td>\n",
              "    </tr>\n",
              "  </tbody>\n",
              "</table>\n",
              "</div>"
            ],
            "text/plain": [
              "      room_type  overall_satisfaction  bedrooms  price\n",
              "0   Shared room                   4.5       1.0  264.0\n",
              "1   Shared room                   4.0       1.0  129.0\n",
              "2   Shared room                   4.0       1.0  129.0\n",
              "3   Shared room                   5.0       1.0   72.0\n",
              "4   Shared room                   5.0       1.0   64.0\n",
              "5   Shared room                   4.0       1.0   45.0\n",
              "6   Shared room                   5.0       1.0   60.0\n",
              "7   Shared room                   4.5       1.0  289.0\n",
              "8   Shared room                   4.0       1.0  193.0\n",
              "9   Shared room                   4.5       1.0  133.0\n",
              "10  Shared room                   4.0       1.0  144.0\n",
              "11  Shared room                   4.0       1.0  114.0\n",
              "12  Shared room                   4.0       1.0  114.0\n",
              "13  Shared room                   4.0       1.0  114.0\n",
              "14  Shared room                   4.0       1.0   84.0"
            ]
          },
          "metadata": {
            "tags": []
          },
          "execution_count": 15
        }
      ]
    },
    {
      "cell_type": "markdown",
      "metadata": {
        "id": "olympic-buyer"
      },
      "source": [
        "Since we have the room_type as a categorical datatype, I am going to map the room_type to numeric values such as:"
      ],
      "id": "olympic-buyer"
    },
    {
      "cell_type": "markdown",
      "metadata": {
        "id": "posted-headline"
      },
      "source": [
        "* entire home/apt >>>1\n",
        "* Private room    >>>2"
      ],
      "id": "posted-headline"
    },
    {
      "cell_type": "code",
      "metadata": {
        "id": "printable-master"
      },
      "source": [
        "encode = preprocessing.LabelEncoder()\n",
        "sp = barcelona_airbnb_list[barcelona_airbnb_list.columns[:]].apply(encode.fit_transform)"
      ],
      "id": "printable-master",
      "execution_count": null,
      "outputs": []
    },
    {
      "cell_type": "markdown",
      "metadata": {
        "id": "forty-indiana"
      },
      "source": [
        "Now the data is ready for next step."
      ],
      "id": "forty-indiana"
    },
    {
      "cell_type": "markdown",
      "metadata": {
        "id": "lined-notification"
      },
      "source": [
        "# Section 4: Classification with the Support Vector Machine\n"
      ],
      "id": "lined-notification"
    },
    {
      "cell_type": "markdown",
      "metadata": {
        "id": "other-tracy"
      },
      "source": [
        "First thing to do is to divide dataset as table x and y, then split them into train and test dataset. Again,20% data will be reserve for testing."
      ],
      "id": "other-tracy"
    },
    {
      "cell_type": "code",
      "metadata": {
        "id": "friendly-cancellation"
      },
      "source": [
        "x = sp.iloc[:, :-1].values\n",
        "y = sp.iloc[:, 2].values\n",
        "\n",
        "class_train, class_test, y_train, y_test = train_test_split(x, y, \n",
        "                                                               test_size = 0.2, random_state = 1)"
      ],
      "id": "friendly-cancellation",
      "execution_count": null,
      "outputs": []
    },
    {
      "cell_type": "markdown",
      "metadata": {
        "id": "dirty-climate"
      },
      "source": [
        "Fit a classifier to the training set:"
      ],
      "id": "dirty-climate"
    },
    {
      "cell_type": "code",
      "metadata": {
        "id": "reverse-dutch",
        "outputId": "53c174cf-d3c5-4113-da65-a14ab5b7d044"
      },
      "source": [
        "classifier = svm.SVC()\n",
        "classifier.fit(class_train, y_train)\n",
        "\n",
        "score = classifier.score(class_test, y_test)\n",
        "print(\"Mean Accuracy: \", score, \"\\n\")"
      ],
      "id": "reverse-dutch",
      "execution_count": null,
      "outputs": [
        {
          "output_type": "stream",
          "text": [
            "Mean Accuracy:  0.999604273842501 \n",
            "\n"
          ],
          "name": "stdout"
        }
      ]
    },
    {
      "cell_type": "markdown",
      "metadata": {
        "id": "exact-crest"
      },
      "source": [
        "### Displaying the prediction table after mapping:"
      ],
      "id": "exact-crest"
    },
    {
      "cell_type": "code",
      "metadata": {
        "id": "charming-thanksgiving",
        "outputId": "a7747507-fe17-42ad-8991-831b629f9248"
      },
      "source": [
        "y_predict = classifier.predict(class_test)\n",
        "table = pd.DataFrame({'Actual': y_test, 'Predicted': y_predict})\n",
        "print(table.head(15))"
      ],
      "id": "charming-thanksgiving",
      "execution_count": null,
      "outputs": [
        {
          "output_type": "stream",
          "text": [
            "    Actual  Predicted\n",
            "0        1          1\n",
            "1        2          2\n",
            "2        1          1\n",
            "3        1          1\n",
            "4        1          1\n",
            "5        1          1\n",
            "6        1          1\n",
            "7        1          1\n",
            "8        1          1\n",
            "9        1          1\n",
            "10       1          1\n",
            "11       2          2\n",
            "12       1          1\n",
            "13       2          2\n",
            "14       2          2\n"
          ],
          "name": "stdout"
        }
      ]
    },
    {
      "cell_type": "markdown",
      "metadata": {
        "id": "freelance-agent"
      },
      "source": [
        "It looks like it outputs a high accurate score. However, the display of the mapping part looks a little wired. Probably we could not predict a type of the rentals only base on it's price, satisify scores and prices?"
      ],
      "id": "freelance-agent"
    },
    {
      "cell_type": "markdown",
      "metadata": {
        "id": "external-cowboy"
      },
      "source": [
        "# Conclusion"
      ],
      "id": "external-cowboy"
    },
    {
      "cell_type": "markdown",
      "metadata": {
        "id": "statistical-scheme"
      },
      "source": [
        "Over all, this is a intersting AI learning process. I had the knowledge on how the Regression and Classification algorithms are processing. I leaned how to load the csv file using pandas and modify it, such as clean up the dataset, using sklearn into a training and test set, fit a linear regression,visualize it using matplotlib,etc.\n",
        "\n",
        "What I planning to do to extend the project further would be make a better assumption and finishe the learning of how to visualize the classifier on a data plot.\n",
        "\n",
        "Eventhough the out come is not very ideal, it's a great coding experience with jupyter notebook. I thing that's what ie realy matters."
      ],
      "id": "statistical-scheme"
    }
  ]
}