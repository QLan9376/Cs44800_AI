{
 "cells": [
  {
   "cell_type": "code",
   "execution_count": 1,
   "id": "protected-remedy",
   "metadata": {},
   "outputs": [
    {
     "name": "stdout",
     "output_type": "stream",
     "text": [
      "Hello Jupyter\n"
     ]
    }
   ],
   "source": [
    "print('Hello Jupyter')"
   ]
  },
  {
   "cell_type": "markdown",
   "id": "unable-initial",
   "metadata": {},
   "source": [
    "User single _underscores_ or single *asterisks* to get italic"
   ]
  },
  {
   "cell_type": "markdown",
   "id": "latter-toyota",
   "metadata": {},
   "source": [
    "# Hearder1"
   ]
  },
  {
   "cell_type": "markdown",
   "id": "lonely-fault",
   "metadata": {},
   "source": [
    "## Header2"
   ]
  },
  {
   "cell_type": "markdown",
   "id": "flexible-charity",
   "metadata": {},
   "source": [
    "### Hearder3"
   ]
  },
  {
   "cell_type": "code",
   "execution_count": null,
   "id": "immune-pound",
   "metadata": {},
   "outputs": [],
   "source": []
  }
 ],
 "metadata": {
  "kernelspec": {
   "display_name": "Python 3",
   "language": "python",
   "name": "python3"
  },
  "language_info": {
   "codemirror_mode": {
    "name": "ipython",
    "version": 3
   },
   "file_extension": ".py",
   "mimetype": "text/x-python",
   "name": "python",
   "nbconvert_exporter": "python",
   "pygments_lexer": "ipython3",
   "version": "3.7.3"
  }
 },
 "nbformat": 4,
 "nbformat_minor": 5
}
