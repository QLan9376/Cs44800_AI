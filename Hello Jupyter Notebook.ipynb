{
  "nbformat": 4,
  "nbformat_minor": 5,
  "metadata": {
    "kernelspec": {
      "display_name": "Python 3",
      "language": "python",
      "name": "python3"
    },
    "language_info": {
      "codemirror_mode": {
        "name": "ipython",
        "version": 3
      },
      "file_extension": ".py",
      "mimetype": "text/x-python",
      "name": "python",
      "nbconvert_exporter": "python",
      "pygments_lexer": "ipython3",
      "version": "3.7.3"
    },
    "colab": {
      "name": "Hello Jupyter Notebook.ipynb",
      "provenance": []
    }
  },
  "cells": [
    {
      "cell_type": "code",
      "metadata": {
        "id": "XqVDfmZmH3_1"
      },
      "source": [
        "<a href=\\\"https://colab.research.google.com/github/QLan9376/Csc44800_Assignment2_Hello_Jupyter_Notebook/blob/main/Hello%20Jupyter%20Notebook.ipynb\\\" target=\\\"_parent\\\"><img src=\\\"https://colab.research.google.com/assets/colab-badge.svg\\\" alt=\\\"Open In Colab\\\"/></a>"
      ],
      "id": "XqVDfmZmH3_1",
      "execution_count": null,
      "outputs": []
    },
    {
      "cell_type": "code",
      "metadata": {
        "id": "protected-remedy",
        "outputId": "8d212931-8e5f-4e80-c868-00e3dbc76cdc"
      },
      "source": [
        "print('Hello Jupyter')"
      ],
      "id": "protected-remedy",
      "execution_count": null,
      "outputs": [
        {
          "output_type": "stream",
          "text": [
            "Hello Jupyter\n"
          ],
          "name": "stdout"
        }
      ]
    },
    {
      "cell_type": "markdown",
      "metadata": {
        "id": "unable-initial"
      },
      "source": [
        "User single _underscores_ or single *asterisks* to get italic"
      ],
      "id": "unable-initial"
    },
    {
      "cell_type": "markdown",
      "metadata": {
        "id": "latter-toyota"
      },
      "source": [
        "# Hearder1"
      ],
      "id": "latter-toyota"
    },
    {
      "cell_type": "markdown",
      "metadata": {
        "id": "lonely-fault"
      },
      "source": [
        "## Header2"
      ],
      "id": "lonely-fault"
    },
    {
      "cell_type": "markdown",
      "metadata": {
        "id": "flexible-charity"
      },
      "source": [
        "### Hearder3"
      ],
      "id": "flexible-charity"
    },
    {
      "cell_type": "code",
      "metadata": {
        "id": "immune-pound"
      },
      "source": [
        ""
      ],
      "id": "immune-pound",
      "execution_count": null,
      "outputs": []
    }
  ]
}